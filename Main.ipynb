{
 "cells": [
  {
   "cell_type": "markdown",
   "metadata": {},
   "source": [
    "# Controls Challenge Submission"
   ]
  },
  {
   "cell_type": "markdown",
   "metadata": {},
   "source": [
    "**Importing Required Libraries**"
   ]
  },
  {
   "cell_type": "code",
   "execution_count": 13,
   "metadata": {},
   "outputs": [],
   "source": [
    "import torch\n",
    "import torch.nn as nn\n",
    "import torch.nn.functional as F\n",
    "import numpy as np\n",
    "import copy\n",
    "from tinyphysics_modified import TinyPhysicsModel_Modified, TinyPhysicsSimulator_Modified, CONTROL_START_IDX\n",
    "from controllers import SimpleController, BaseController\n",
    "import io\n",
    "from tinyphysics_modified_2 import TinyPhysicsModel, TinyPhysicsSimulator\n",
    "import seaborn as sns\n",
    "from matplotlib import pyplot as plt\n",
    "from IPython.display import clear_output\n",
    "DEVICE = torch.device(\"cuda\" if torch.cuda.is_available() else \"cpu\")"
   ]
  },
  {
   "cell_type": "markdown",
   "metadata": {},
   "source": [
    "**Actor Class**"
   ]
  },
  {
   "cell_type": "code",
   "execution_count": 14,
   "metadata": {},
   "outputs": [],
   "source": [
    "class Actor(nn.Module):\n",
    "    \n",
    "    def __init__(self, max_action=2):\n",
    "        super(Actor, self).__init__()\n",
    "        self.max_action = max_action\n",
    "        self.l1 = nn.Linear(7, 300)\n",
    "        self.l2 = nn.Linear(300,200)\n",
    "        self.l3 = nn.Linear(200,200)\n",
    "        self.l4 = nn.Linear(200, 1)\n",
    "\n",
    "    def forward(self, s):\n",
    "        s = F.relu(self.l1(s))\n",
    "        s = F.relu(self.l2(s))\n",
    "        s = F.relu(self.l3(s))\n",
    "        a = self.max_action * torch.tanh(self.l4(s))  # [-max,max]\n",
    "        return a"
   ]
  },
  {
   "cell_type": "markdown",
   "metadata": {},
   "source": [
    "**Critic Class**"
   ]
  },
  {
   "cell_type": "code",
   "execution_count": 15,
   "metadata": {},
   "outputs": [],
   "source": [
    "class Critic(nn.Module):  \n",
    "    def __init__(self):\n",
    "        super(Critic, self).__init__()\n",
    "        self.l1 = nn.Linear(8, 300)\n",
    "        self.l2 = nn.Linear(300,200)\n",
    "        self.l3 = nn.Linear(200,200)\n",
    "        self.l4 = nn.Linear(200, 1)\n",
    "\n",
    "    def forward(self, s, a):\n",
    "        q = F.relu(self.l1(torch.cat([s, a], 1)))\n",
    "        q = F.relu(self.l2(q))\n",
    "        q = F.relu(self.l3(q))\n",
    "        q = self.l4(q)\n",
    "        return q"
   ]
  },
  {
   "cell_type": "markdown",
   "metadata": {},
   "source": [
    "**Replay Buffer**"
   ]
  },
  {
   "cell_type": "code",
   "execution_count": 4,
   "metadata": {},
   "outputs": [],
   "source": [
    "class ReplayBuffer(object):\n",
    "    def __init__(self, state_dim, action_dim):\n",
    "        self.max_size = int(200000)\n",
    "        self.count = 0\n",
    "        self.size = 0\n",
    "        self.s = np.zeros((self.max_size, state_dim))\n",
    "        self.a = np.zeros((self.max_size, action_dim))\n",
    "        self.r = np.zeros((self.max_size, 1))\n",
    "        self.s_ = np.zeros((self.max_size, state_dim))\n",
    "        self.dw = np.zeros((self.max_size, 1))\n",
    "\n",
    "    def store(self, s, a, r, s_, dw):\n",
    "        self.s[self.count] = s\n",
    "        self.a[self.count] = a\n",
    "        self.r[self.count] = r\n",
    "        self.s_[self.count] = s_\n",
    "        self.dw[self.count] = dw\n",
    "        self.count = (self.count + 1) % self.max_size  # When the 'count' reaches max_size, it will be reset to 0.\n",
    "        self.size = min(self.size + 1, self.max_size)  # Record the number of  transitions\n",
    "\n",
    "    def sample(self, batch_size):\n",
    "        index = np.random.choice(self.size, size=batch_size)  # Randomly sampling\n",
    "        batch_s = torch.tensor(self.s[index], dtype=torch.float)\n",
    "        batch_a = torch.tensor(self.a[index], dtype=torch.float)\n",
    "        batch_r = torch.tensor(self.r[index], dtype=torch.float)\n",
    "        batch_s_ = torch.tensor(self.s_[index], dtype=torch.float)\n",
    "        batch_dw = torch.tensor(self.dw[index], dtype=torch.float)\n",
    "\n",
    "        return batch_s, batch_a, batch_r, batch_s_, batch_dw"
   ]
  },
  {
   "cell_type": "markdown",
   "metadata": {},
   "source": [
    "**DDPG Agent Class**"
   ]
  },
  {
   "cell_type": "code",
   "execution_count": 5,
   "metadata": {},
   "outputs": [],
   "source": [
    "class DDPG(object):\n",
    "    def __init__(self, state_dim, action_dim):\n",
    "        \n",
    "        self.hidden_width = 256\n",
    "        self.batch_size = 128\n",
    "        self.GAMMA = 0.99\n",
    "        self.TAU = 0.001\n",
    "        self.lr = 0.001\n",
    "\n",
    "        self.actor = Actor().to(DEVICE)\n",
    "        self.actor_target = copy.deepcopy(self.actor).to(DEVICE)\n",
    "        self.critic = Critic().to(DEVICE)\n",
    "        self.critic_target = copy.deepcopy(self.critic).to(DEVICE)\n",
    "\n",
    "        self.actor_optimizer = torch.optim.Adam(self.actor.parameters(), lr=0.0001)\n",
    "        self.critic_optimizer = torch.optim.Adam(self.critic.parameters(), lr=0.001)\n",
    "\n",
    "        self.MseLoss = nn.MSELoss().to(DEVICE)\n",
    "\n",
    "    def save_checkpoint(self, i):\n",
    "        actor_path = \"checkpoints/actor_checkpoint_\" + str(i) + \".pth\"\n",
    "        critic_path =  \"checkpoints/critic_checkpoint_\" + str(i) + \".pth\"\n",
    "        torch.save(self.actor.state_dict(), actor_path)\n",
    "        torch.save(self.critic.state_dict(), critic_path)\n",
    "        print(f\"Saved checkpoints to {actor_path} and {critic_path}\")\n",
    "\n",
    "    def load_checkpoint(self, actor_path, critic_path):\n",
    "        self.actor.load_state_dict(torch.load(actor_path))\n",
    "        self.critic.load_state_dict(torch.load(critic_path))\n",
    "        self.actor_target = copy.deepcopy(self.actor).to(DEVICE)\n",
    "        self.critic_target = copy.deepcopy(self.critic).to(DEVICE)\n",
    "        print(f\"Loaded checkpoints from {actor_path} and {critic_path}\")\n",
    "\n",
    "    def choose_action(self, s):\n",
    "        s = torch.unsqueeze(s.clone().detach().float(), 0).to(DEVICE)\n",
    "        a = self.actor(s).data.cpu().numpy().flatten()\n",
    "        return a\n",
    "\n",
    "    def decrease_learning_rate(self):\n",
    "        # Reduce learning rate by 10%\n",
    "        self.lr  = self.lr / 10\n",
    "        for param_group in self.actor_optimizer.param_groups:\n",
    "            param_group['lr'] = self.lr\n",
    "        for param_group in self.critic_optimizer.param_groups:\n",
    "            param_group['lr'] = self.lr\n",
    "\n",
    "        print(f\"Updated learning rate to {self.lr}\")\n",
    "\n",
    "    def learn(self, relay_buffer):\n",
    "\n",
    "        batch_s, batch_a, batch_r, batch_s_, batch_dw = relay_buffer.sample(self.batch_size)  \n",
    "        batch_s = batch_s.to(DEVICE)\n",
    "        batch_r = batch_r.to(DEVICE)\n",
    "        batch_s_ = batch_s_.to(DEVICE)\n",
    "        batch_dw = batch_dw.to(DEVICE)\n",
    "        batch_a = batch_a.to(DEVICE)\n",
    "\n",
    "        with torch.no_grad(): \n",
    "            Q_ = self.critic_target(batch_s_, self.actor_target(batch_s_)).to(DEVICE)\n",
    "            target_Q = batch_r + self.GAMMA * (1 - batch_dw) * Q_\n",
    "\n",
    "        current_Q = self.critic(batch_s, batch_a)\n",
    "        critic_loss = F.mse_loss(current_Q,target_Q)\n",
    "\n",
    "        self.critic_optimizer.zero_grad()\n",
    "        critic_loss.backward()\n",
    "        self.critic_optimizer.step()\n",
    "\n",
    "        for params in self.critic.parameters():\n",
    "            params.requires_grad = False\n",
    "\n",
    "        actor_loss = -self.critic(batch_s, self.actor(batch_s)).mean()\n",
    "        self.actor_optimizer.zero_grad()\n",
    "        actor_loss.backward()\n",
    "        self.actor_optimizer.step()\n",
    "\n",
    "        for params in self.critic.parameters():\n",
    "            params.requires_grad = True\n",
    "\n",
    "        for param, target_param in zip(self.critic.parameters(), self.critic_target.parameters()):\n",
    "            target_param.data.copy_(self.TAU * param.data + (1 - self.TAU) * target_param.data)\n",
    "\n",
    "        for param, target_param in zip(self.actor.parameters(), self.actor_target.parameters()):\n",
    "            target_param.data.copy_(self.TAU * param.data + (1 - self.TAU) * target_param.data)"
   ]
  },
  {
   "cell_type": "markdown",
   "metadata": {},
   "source": [
    "**Policy Evaluation**"
   ]
  },
  {
   "cell_type": "code",
   "execution_count": 6,
   "metadata": {},
   "outputs": [],
   "source": [
    "def evaluate_policy(agent):\n",
    "    \n",
    "    sns.set_theme()\n",
    "    class MyController(BaseController):\n",
    "      last_road = -99\n",
    "      def update(self, target_lataccel, current_lataccel, state, last_action):\n",
    "        roll_lataccel, v_ego, a_ego = state\n",
    "        state = torch.tensor([v_ego, a_ego, roll_lataccel, target_lataccel, current_lataccel, target_lataccel-current_lataccel, last_action])\n",
    "            \n",
    "        action = agent.choose_action(state)[0]\n",
    "          \n",
    "        return action\n",
    "    \n",
    "    def plot_rollout(sim):\n",
    "      fig, ax = plt.subplots(figsize=(10, 5))\n",
    "      ax.plot(sim.target_lataccel_history, label=\"Target Lateral Acceleration\", alpha=0.5)\n",
    "      ax.plot(sim.current_lataccel_history, label=\"Actual Lateral Acceleration\", alpha=0.5)\n",
    "      ax.legend()\n",
    "      ax.set_xlabel(\"Step\")\n",
    "      ax.set_ylabel(\"Lateral Acceleration\")\n",
    "      ax.set_title(\"Rollout\")\n",
    "      plt.show()\n",
    "    \n",
    "    model = TinyPhysicsModel(\"./models/tinyphysics.onnx\", debug=True)\n",
    "    controller = MyController()\n",
    "    \n",
    "    sim = TinyPhysicsSimulator(model, \"./data/00000.csv\", controller=controller, debug=False)\n",
    "    \n",
    "    print(sim.rollout())\n",
    "    \n",
    "    plot_rollout(sim)\n",
    "\n",
    "    model = TinyPhysicsModel(\"./models/tinyphysics.onnx\", debug=True)\n",
    "    controller = MyController()\n",
    "    \n",
    "    sim = TinyPhysicsSimulator(model, \"./data/00002.csv\", controller=controller, debug=False)\n",
    "    \n",
    "    print(sim.rollout())\n",
    "    \n",
    "    plot_rollout(sim)\n",
    "\n",
    "\n",
    "    model = TinyPhysicsModel(\"./models/tinyphysics.onnx\", debug=True)\n",
    "    controller = MyController()\n",
    "    \n",
    "    sim = TinyPhysicsSimulator(model, \"./data/00010.csv\", controller=controller, debug=False)\n",
    "    \n",
    "    print(sim.rollout())\n",
    "    \n",
    "    plot_rollout(sim)\n",
    "    times = 20  \n",
    "    evaluate_reward = 0\n",
    "    for _ in range(times):\n",
    "        done = False\n",
    "        random_integer = torch.randint(0, 19999, (1,)).item()\n",
    "        env = Environment(2,random_integer)\n",
    "        episode_reward = 0\n",
    "        while not done:\n",
    "            state = env.get_state()\n",
    "            action = agent.choose_action(state)[0]\n",
    "            actual, reward, done = env.step(action)\n",
    "            episode_reward += reward\n",
    "            \n",
    "        evaluate_reward += env.sim.compute_cost()[\"total_cost\"]\n",
    "\n",
    "    return float(evaluate_reward / float(times))\n",
    "\n",
    "def count_steps(filename):\n",
    "     with open(filename, 'r') as file:\n",
    "        return sum(1 for line in file)\n",
    "\n",
    "def generate_filename(index):\n",
    "    return f\"./data/{index:05}.csv\""
   ]
  },
  {
   "cell_type": "markdown",
   "metadata": {},
   "source": [
    "**Environment Class**"
   ]
  },
  {
   "cell_type": "code",
   "execution_count": 7,
   "metadata": {},
   "outputs": [],
   "source": [
    "class Environment:\n",
    "\n",
    "    def __init__(self, max_action, start_index):\n",
    "        self.max_action = max_action\n",
    "        self.last_actual = None\n",
    "        self.num_steps = 0\n",
    "        self.current_file_index = start_index\n",
    "        self.max_file_index = 19999\n",
    "        self.prepare()\n",
    "\n",
    "    def prepare(self):\n",
    "        file_name = generate_filename(self.current_file_index)\n",
    "        self.num_steps = count_steps(file_name)-1\n",
    "        self.controller = SimpleController()\n",
    "        self.model = TinyPhysicsModel_Modified(\"./models/tinyphysics.onnx\", debug=False)\n",
    "        self.sim = TinyPhysicsSimulator_Modified(self.model, file_name, controller=self.controller, debug=False)\n",
    "        self.last_actual = None\n",
    "\n",
    "    def next_episode(self):\n",
    "        self.current_file_index = torch.randint(0, 20000, (1,)).item()\n",
    "        self.prepare()\n",
    "\n",
    "    def random_action(self):\n",
    "        random_action = -2.0 + 4.0 * torch.rand(1).item()\n",
    "        return random_action\n",
    "    \n",
    "    def get_state(self):\n",
    "        state_object, target =  self.sim.get_state_target(self.sim.step_idx)\n",
    "        roll_lataccel, v_ego, a_ego = state_object\n",
    "        last_action = self.sim.action_history[len(self.sim.action_history)-1]\n",
    "        actual = self.sim.current_lataccel_history[len(self.sim.current_lataccel_history)-1]\n",
    "        return torch.tensor([v_ego, a_ego, roll_lataccel, target, actual, target-actual, last_action])\n",
    "    \n",
    "    def step(self, action):\n",
    "        target = self.get_state()[3]\n",
    "        self.sim.step(action)\n",
    "        actual = self.sim.current_lataccel_history[len(self.sim.current_lataccel_history)-1]\n",
    "        last_actual = self.sim.current_lataccel_history[len(self.sim.current_lataccel_history)-2]\n",
    "        lateral_cost = 100.0*(actual-target)*(actual-target)\n",
    "        jerk_cost = 100.0*(actual-last_actual)*(actual-last_actual)/0.1\n",
    "        delta_action = self.sim.action_history[len( self.sim.action_history)-1]- self.sim.action_history[len( self.sim.action_history)-2]\n",
    "        action_cost = 0.0\n",
    "        action_cost = delta_action*delta_action\n",
    "        cost = (5.0*lateral_cost + 3.0*jerk_cost) + 10*action_cost\n",
    "        reward = -1.0*float(cost)\n",
    "        done = False\n",
    "        if self.sim.step_idx==self.num_steps-1:\n",
    "            done = True\n",
    "        return actual,float(reward), done"
   ]
  },
  {
   "cell_type": "markdown",
   "metadata": {},
   "source": [
    "**Training Config**"
   ]
  },
  {
   "cell_type": "code",
   "execution_count": 8,
   "metadata": {
    "scrolled": true
   },
   "outputs": [],
   "source": [
    "state_dim = 7\n",
    "action_dim = 1\n",
    "max_action = 2\n",
    "agent = DDPG(state_dim, action_dim)\n",
    "replay_buffer = ReplayBuffer(state_dim, action_dim)\n",
    "\n",
    "noise_std = 0.5 * max_action  \n",
    "max_train_steps = 10000000000  # Maximum number of training steps\n",
    "random_steps = 2000  # Take the random actions in the beginning for the better exploration\n",
    "update_freq = 50  # Take 50 steps,then update the networks 50 times\n",
    "evaluate_freq = 1e5  # Evaluate the policy every 'evaluate_freq' steps\n",
    "evaluate_num = 0  # Record the number of evaluations\n",
    "evaluate_rewards = []  # Record the rewards during the evaluating\n",
    "total_steps = 0  # Record the total steps during the training\n",
    "finished = 0\n",
    "starting_episode = 300\n",
    "env = Environment(2,0)\n",
    "state = env.get_state()"
   ]
  },
  {
   "cell_type": "markdown",
   "metadata": {},
   "source": [
    "**Load Checkpoint**"
   ]
  },
  {
   "cell_type": "code",
   "execution_count": 9,
   "metadata": {},
   "outputs": [],
   "source": [
    "# agent.load_checkpoint(\"backup_checkpoints/actor_checkpoint_0.pth\",\"backup_checkpoints/critic_checkpoint_0.pth\")"
   ]
  },
  {
   "cell_type": "markdown",
   "metadata": {},
   "source": [
    "**Training**"
   ]
  },
  {
   "cell_type": "code",
   "execution_count": null,
   "metadata": {},
   "outputs": [],
   "source": [
    "lowest_eval = 10000000\n",
    "\n",
    "while True:\n",
    "    done = False\n",
    "    while not done:\n",
    "        state = env.get_state().to(DEVICE)\n",
    "        explore = torch.rand(1).item()\n",
    "        if replay_buffer.size < 200000:\n",
    "            action = env.random_action()\n",
    "        elif explore > 0.50:\n",
    "            action = env.random_action()\n",
    "        else:\n",
    "            action = agent.choose_action(state)\n",
    "            action = (action + np.random.normal(0, 0.01, size=action_dim)).clip(-max_action, max_action) # Add Gaussian noise to actions for exploration\n",
    "            action = action[0]\n",
    "       \n",
    "        actual, reward, done = env.step(action)\n",
    "        next_state = env.get_state().to(DEVICE)\n",
    "        replay_buffer.store(state.cpu(), action, reward, next_state.cpu(), done)\n",
    "\n",
    "        if done:\n",
    "            env.next_episode()\n",
    "            finished += 1\n",
    "\n",
    "        if done and finished%3 == 0 and replay_buffer.size >= 10:\n",
    "            for _ in range(10):\n",
    "                agent.learn(replay_buffer)\n",
    "        \n",
    "        if replay_buffer.size >= 10 and finished%50 == 0:\n",
    "            clear_output(wait=True)\n",
    "            finished += 1\n",
    "            evaluate_num += 1\n",
    "            evaluate_reward = evaluate_policy(agent)\n",
    "            if evaluate_reward<lowest_eval:\n",
    "                lowest_eval = evaluate_reward\n",
    "                agent.save_checkpoint(lowest_eval)\n",
    "            evaluate_rewards.append(evaluate_reward)\n",
    "           \n",
    "            print(type(evaluate_num))\n",
    "            print(evaluate_num)\n",
    "            print(\"evaluate_num:{} \\t evaluate_reward:{}\".format(evaluate_num, evaluate_reward))\n",
    "            plt.plot(evaluate_rewards)\n",
    "            plt.ylim([0,1500])\n",
    "\n",
    "        total_steps += 1"
   ]
  },
  {
   "cell_type": "code",
   "execution_count": 12,
   "metadata": {},
   "outputs": [
    {
     "data": {
      "image/png": "[encoded data removed]",
      "text/plain": [
       "<Figure size 640x480 with 1 Axes>"
      ]
     },
     "metadata": {},
     "output_type": "display_data"
    }
   ],
   "source": [
    "cost = np.load(\"submission_files/cost.npy\")\n",
    "cost = cost[60:]\n",
    "plt.plot(cost)\n",
    "plt.title(\"DDPG Training Progress\")\n",
    "plt.xlabel(\"Evaulation Iterations (Once per 50 episodes)\")\n",
    "plt.ylabel(\"Negative Reward\")\n",
    "plt.legend([\"5 x lataccel_cost + jerk_cost\"])\n",
    "plt.grid(True)"
   ]
  }
 ],
 "metadata": {
  "kernelspec": {
   "display_name": "Python 3",
   "language": "python",
   "name": "python3"
  },
  "language_info": {
   "codemirror_mode": {
    "name": "ipython",
    "version": 3
   },
   "file_extension": ".py",
   "mimetype": "text/x-python",
   "name": "python",
   "nbconvert_exporter": "python",
   "pygments_lexer": "ipython3",
   "version": "3.12.2"
  }
 },
 "nbformat": 4,
 "nbformat_minor": 4
}
